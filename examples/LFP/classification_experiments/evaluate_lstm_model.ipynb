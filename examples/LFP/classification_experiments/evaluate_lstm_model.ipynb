{
 "cells": [
  {
   "cell_type": "code",
   "execution_count": 1,
   "metadata": {
    "colab": {
     "base_uri": "https://localhost:8080/"
    },
    "executionInfo": {
     "elapsed": 965,
     "status": "ok",
     "timestamp": 1742439347418,
     "user": {
      "displayName": "Mohammad O.",
      "userId": "11840019435036507814"
     },
     "user_tz": -60
    },
    "id": "qNHaBbRnJbu_",
    "outputId": "a9bc4db0-70b5-4569-e293-22769345ee5e"
   },
   "outputs": [],
   "source": [
    "import os\n",
    "import sys\n",
    "\n",
    "# Check if the notebook is running on Google Colab\n",
    "if 'google.colab' in sys.modules:\n",
    "    # Clone the repository\n",
    "    # os.system('git clone https://github.com/orabe/gait_modulation.git')\n",
    "    # Change directory to the cloned repository\n",
    "    # os.chdir('gait_modulation')\n",
    "    \n",
    "    from google.colab import drive\n",
    "    drive.mount('/content/drive')\n",
    "    \n",
    "    # Change directory to the desired location in Google Drive\n",
    "    os.chdir('/content/drive/MyDrive/master_thesis/gait_modulation')"
   ]
  },
  {
   "cell_type": "code",
   "execution_count": 2,
   "metadata": {
    "executionInfo": {
     "elapsed": 384,
     "status": "ok",
     "timestamp": 1742439348433,
     "user": {
      "displayName": "Mohammad O.",
      "userId": "11840019435036507814"
     },
     "user_tz": -60
    },
    "id": "rWZPTF72Jz0M"
   },
   "outputs": [],
   "source": [
    "if 'google.colab' in sys.modules:    \n",
    "    # Install the package\n",
    "    # os.system('pip install gait_modulation')\n",
    "    \n",
    "    # Install the package in editable mode\n",
    "    os.system('pip install -e .')"
   ]
  },
  {
   "cell_type": "code",
   "execution_count": null,
   "metadata": {
    "executionInfo": {
     "elapsed": 26725,
     "status": "ok",
     "timestamp": 1742439383021,
     "user": {
      "displayName": "Mohammad O.",
      "userId": "11840019435036507814"
     },
     "user_tz": -60
    },
    "id": "7NVvifqyKIX-"
   },
   "outputs": [],
   "source": [
    "from tensorflow.keras.preprocessing.sequence import pad_sequences\n",
    "from tensorflow.keras.models import load_model\n",
    "from tensorflow.keras.utils import plot_model\n",
    "\n",
    "from sklearn.metrics import roc_curve, auc\n",
    "from sklearn.model_selection import LeaveOneGroupOut, cross_val_predict\n",
    "from sklearn.model_selection import learning_curve\n",
    "\n",
    "import os\n",
    "import numpy as np\n",
    "import pandas as pd\n",
    "import matplotlib.pyplot as plt\n",
    "import os\n",
    "import json\n",
    "import time\n",
    "import logging\n",
    "import seaborn as sns\n",
    "\n",
    "from gait_modulation import FeatureExtractor2\n",
    "from gait_modulation import LSTMClassifier\n",
    "from gait_modulation.utils.utils import load_pkl, initialize_tf, disable_xla"
   ]
  },
  {
   "cell_type": "code",
   "execution_count": null,
   "metadata": {
    "executionInfo": {
     "elapsed": 2,
     "status": "ok",
     "timestamp": 1742439456565,
     "user": {
      "displayName": "Mohammad O.",
      "userId": "11840019435036507814"
     },
     "user_tz": -60
    },
    "id": "9BOduXbqKRR4"
   },
   "outputs": [],
   "source": [
    "# Suppress TensorFlow logs (0 = all, 1 = info, 2 = warnings, 3 = errors)\n",
    "os.environ['TF_CPP_MIN_LOG_LEVEL'] = '2'\n",
    "# Disable XLA for better performance\n",
    "# disable_xla()\n"
   ]
  },
  {
   "cell_type": "code",
   "execution_count": 5,
   "metadata": {
    "colab": {
     "base_uri": "https://localhost:8080/"
    },
    "executionInfo": {
     "elapsed": 136,
     "status": "ok",
     "timestamp": 1742439458094,
     "user": {
      "displayName": "Mohammad O.",
      "userId": "11840019435036507814"
     },
     "user_tz": -60
    },
    "id": "aixSyH20KYtd",
    "outputId": "4f10c4b0-1158-4eda-d8f5-ada27453851c"
   },
   "outputs": [
    {
     "name": "stdout",
     "output_type": "stream",
     "text": [
      "Loaded data for 7 patients.\n",
      "Loaded data for 5 patients.\n"
     ]
    }
   ],
   "source": [
    "# Load the preprocessed data\n",
    "patient_epochs_path = os.path.join(\"results\", \"pickles\", \"patients_epochs.pickle\")\n",
    "subjects_event_idx_dict_path = os.path.join(\"results\", \"pickles\", \"subjects_event_idx_dict.pickle\")\n",
    "\n",
    "patient_epochs = load_pkl(patient_epochs_path)\n",
    "subjects_event_idx_dict = load_pkl(subjects_event_idx_dict_path)\n",
    "\n",
    "patient_names = np.array(list(patient_epochs.keys()))\n",
    "print(f\"Loaded data for {len(patient_names)} patients.\")\n",
    "\n",
    "# Slice patients for testing\n",
    "patient_names = patient_names[:5]\n",
    "patient_epochs = {k: patient_epochs[k] for k in patient_names}\n",
    "subjects_event_idx_dict = {k: subjects_event_idx_dict[k] for k in patient_names}\n",
    "print(f\"Loaded data for {len(patient_names)} patients.\")"
   ]
  },
  {
   "cell_type": "code",
   "execution_count": null,
   "metadata": {
    "colab": {
     "base_uri": "https://localhost:8080/",
     "height": 588
    },
    "executionInfo": {
     "elapsed": 67,
     "status": "error",
     "timestamp": 1742439459319,
     "user": {
      "displayName": "Mohammad O.",
      "userId": "11840019435036507814"
     },
     "user_tz": -60
    },
    "id": "H4r7JLvHKfJ6",
    "outputId": "23e2a117-f7f2-4969-ba2d-983312fb7ad9"
   },
   "outputs": [
    {
     "name": "stderr",
     "output_type": "stream",
     "text": [
      "WARNING:absl:Compiled the loaded model, but the compiled metrics have yet to be built. `model.compile_metrics` will be empty until you train or evaluate the model.\n"
     ]
    }
   ],
   "source": [
    "# Load the best model\n",
    "ts = \"20250321-031503\"\n",
    "model_dir = os.path.join(\"logs\", \"lstm\", \"models\", f\"run_{ts}\")\n",
    "    \n",
    "best_model_path = os.path.join(model_dir, \"best_lstm_model.h5\")\n",
    "# keras_model_path = os.path.join(model_dir, 'best_lstm_model.keras')\n",
    "\n",
    "custom_objects = {\n",
    "    'masked_loss_binary_crossentropy': LSTMClassifier.masked_loss_binary_crossentropy,\n",
    "}\n",
    "best_model = load_model(best_model_path, custom_objects=custom_objects)\n",
    "\n",
    "# Load the padded data\n",
    "padded_data_path = os.path.join(\"results\", \"padded_data.npz\")\n",
    "with np.load(padded_data_path) as data:\n",
    "    X_padded = data['X_padded']\n",
    "    y_padded = data['y_padded']\n",
    "    groups = data['groups']\n",
    "\n",
    "mask_vals = (0.0, 2)"
   ]
  },
  {
   "cell_type": "code",
   "execution_count": 28,
   "metadata": {
    "colab": {
     "base_uri": "https://localhost:8080/",
     "height": 241
    },
    "executionInfo": {
     "elapsed": 85,
     "status": "error",
     "timestamp": 1742439392237,
     "user": {
      "displayName": "Mohammad O.",
      "userId": "11840019435036507814"
     },
     "user_tz": -60
    },
    "id": "4f5k3SNnRpxQ",
    "outputId": "eb51c4a7-c5cd-41eb-c8c5-bd2a31026410"
   },
   "outputs": [
    {
     "name": "stdout",
     "output_type": "stream",
     "text": [
      "Number of splits: 3\n",
      "============================================================\n",
      "\n",
      "---- Fold 1/3 | Patient PW_FH57] ----\n",
      "\n",
      "\u001b[1m1/2\u001b[0m \u001b[32m━━━━━━━━━━\u001b[0m\u001b[37m━━━━━━━━━━\u001b[0m \u001b[1m0s\u001b[0m 357ms/stepWARNING:tensorflow:5 out of the last 16 calls to <function TensorFlowTrainer.make_predict_function.<locals>.one_step_on_data_distributed at 0x31ef51ab0> triggered tf.function retracing. Tracing is expensive and the excessive number of tracings could be due to (1) creating @tf.function repeatedly in a loop, (2) passing tensors with different shapes, (3) passing Python objects instead of tensors. For (1), please define your @tf.function outside of the loop. For (2), @tf.function has reduce_retracing=True option that can avoid unnecessary retracing. For (3), please refer to https://www.tensorflow.org/guide/function#controlling_retracing and https://www.tensorflow.org/api_docs/python/tf/function for  more details.\n"
     ]
    },
    {
     "name": "stderr",
     "output_type": "stream",
     "text": [
      "WARNING:tensorflow:5 out of the last 16 calls to <function TensorFlowTrainer.make_predict_function.<locals>.one_step_on_data_distributed at 0x31ef51ab0> triggered tf.function retracing. Tracing is expensive and the excessive number of tracings could be due to (1) creating @tf.function repeatedly in a loop, (2) passing tensors with different shapes, (3) passing Python objects instead of tensors. For (1), please define your @tf.function outside of the loop. For (2), @tf.function has reduce_retracing=True option that can avoid unnecessary retracing. For (3), please refer to https://www.tensorflow.org/guide/function#controlling_retracing and https://www.tensorflow.org/api_docs/python/tf/function for  more details.\n"
     ]
    },
    {
     "name": "stdout",
     "output_type": "stream",
     "text": [
      "\u001b[1m2/2\u001b[0m \u001b[32m━━━━━━━━━━━━━━━━━━━━\u001b[0m\u001b[37m\u001b[0m \u001b[1m1s\u001b[0m 341ms/step\n",
      "Accuracy = 0.4667, F1-score = 0.4756, ROC AUC = 0.4536\n",
      "Confusion Matrix:\n",
      "[[416 411]\n",
      " [286 194]]\n",
      "Classification Report:\n",
      "                precision    recall  f1-score   support\n",
      "\n",
      "Normal Walking     0.5926    0.5030    0.5441       827\n",
      "    Modulation     0.3207    0.4042    0.3576       480\n",
      "\n",
      "      accuracy                         0.4667      1307\n",
      "     macro avg     0.4566    0.4536    0.4509      1307\n",
      "  weighted avg     0.4927    0.4667    0.4756      1307\n",
      "\n",
      "============================================================\n",
      "\n",
      "---- Fold 2/3 | Patient PW_HZ58] ----\n",
      "\n",
      "\u001b[1m2/2\u001b[0m \u001b[32m━━━━━━━━━━━━━━━━━━━━\u001b[0m\u001b[37m\u001b[0m \u001b[1m0s\u001b[0m 176ms/step\n",
      "Accuracy = 0.6537, F1-score = 0.6582, ROC AUC = 0.6617\n",
      "Confusion Matrix:\n",
      "[[406 242]\n",
      " [124 285]]\n",
      "Classification Report:\n",
      "                precision    recall  f1-score   support\n",
      "\n",
      "Normal Walking     0.7660    0.6265    0.6893       648\n",
      "    Modulation     0.5408    0.6968    0.6090       409\n",
      "\n",
      "      accuracy                         0.6537      1057\n",
      "     macro avg     0.6534    0.6617    0.6491      1057\n",
      "  weighted avg     0.6789    0.6537    0.6582      1057\n",
      "\n",
      "============================================================\n",
      "\n",
      "---- Fold 3/3 | Patient PW_US68] ----\n",
      "\n",
      "\u001b[1m1/1\u001b[0m \u001b[32m━━━━━━━━━━━━━━━━━━━━\u001b[0m\u001b[37m\u001b[0m \u001b[1m0s\u001b[0m 182ms/step\n",
      "Accuracy = 0.4620, F1-score = 0.4647, ROC AUC = 0.4538\n",
      "Confusion Matrix:\n",
      "[[193 190]\n",
      " [164 111]]\n",
      "Classification Report:\n",
      "                precision    recall  f1-score   support\n",
      "\n",
      "Normal Walking     0.5406    0.5039    0.5216       383\n",
      "    Modulation     0.3688    0.4036    0.3854       275\n",
      "\n",
      "      accuracy                         0.4620       658\n",
      "     macro avg     0.4547    0.4538    0.4535       658\n",
      "  weighted avg     0.4688    0.4620    0.4647       658\n",
      "\n",
      "************************************************************\n",
      "\n",
      "Overall Accuracy: 0.5311, Overall F1 Score: 0.5371 Overall ROC AUC: 0.5266\n",
      "Overall Confusion Matrix:\n",
      "[[1015  843]\n",
      " [ 574  590]]\n",
      "Overall Classification Report:\n",
      "                precision    recall  f1-score   support\n",
      "\n",
      "Normal Walking     0.6388    0.5463    0.5889      1858\n",
      "    Modulation     0.4117    0.5069    0.4544      1164\n",
      "\n",
      "      accuracy                         0.5311      3022\n",
      "     macro avg     0.5252    0.5266    0.5216      3022\n",
      "  weighted avg     0.5513    0.5311    0.5371      3022\n",
      "\n",
      "\n",
      "Mean Accuracy: 0.5275 ± 0.0893\n",
      "Mean F1 Score: 0.5329 ± 0.0888\n",
      "Mean ROC AUC: 0.5230 ± 0.0981\n",
      "Evaluation metrics saved at logs/lstm/models/run_20250321-031503/evaluation_metrics.json\n"
     ]
    }
   ],
   "source": [
    "# Initialize Leave-One-Group-Out cross-validator\n",
    "logo = LeaveOneGroupOut()\n",
    "n_splits = logo.get_n_splits(X_padded, y_padded, groups)\n",
    "print(f\"Number of splits: {n_splits}\")\n",
    "\n",
    "# Initialize arrays to store predictions and true labels\n",
    "y_true_all = np.empty((0, y_padded.shape[1]))\n",
    "y_pred_all = np.empty((0, y_padded.shape[1]))\n",
    "\n",
    "# Initialize lists to store metrics for each fold\n",
    "accuracy_list = []\n",
    "f1_list = []\n",
    "roc_auc_list = []\n",
    "\n",
    "# Evaluate per patient (group)\n",
    "per_fold_metrics = []\n",
    "for fold, (train_idx, test_idx) in enumerate(logo.split(X_padded, y_padded, groups)):\n",
    "    print(\"=\" * 60)\n",
    "    print(f\"\\n---- Fold {fold + 1}/{n_splits} | Patient {groups[test_idx[0]]}] ----\\n\")\n",
    "\n",
    "    # Get the test data\n",
    "    X_test = X_padded[test_idx]\n",
    "    y_test = y_padded[test_idx]\n",
    "\n",
    "    # Make predictions on the test data\n",
    "    y_pred = best_model.predict(X_test)\n",
    "    y_pred = (y_pred > 0.5).astype(int)\n",
    "\n",
    "    # Evaluate the model for the current fold\n",
    "    f1 = LSTMClassifier.masked_f1_score(y_test, y_pred)\n",
    "    acc = LSTMClassifier.masked_accuracy_score(y_test, y_pred)\n",
    "    roc_auc = LSTMClassifier.masked_roc_auc_score(y_test, y_pred)\n",
    "    confusion_matrix = LSTMClassifier.masked_confusion_matrix(y_test, y_pred)\n",
    "    classification_report = LSTMClassifier.masked_classification_report(y_test, y_pred, target_names=['Normal Walking', 'Modulation'])\n",
    "\n",
    "    per_fold_metrics.append({\n",
    "        \"patient\": groups[test_idx[0]],\n",
    "        \"accuracy\": acc,\n",
    "        \"f1\": f1,\n",
    "        \"roc_auc\": roc_auc,\n",
    "        \"confusion_matrix\": confusion_matrix,\n",
    "        \"classification_report\": classification_report\n",
    "    })\n",
    "\n",
    "    # Store metrics for each fold\n",
    "    accuracy_list.append(acc)\n",
    "    f1_list.append(f1)\n",
    "    roc_auc_list.append(roc_auc)\n",
    "\n",
    "    print(f\"Accuracy = {acc:.4f}, F1-score = {f1:.4f}, ROC AUC = {roc_auc:.4f}\")\n",
    "    print(f\"Confusion Matrix:\\n{confusion_matrix}\")\n",
    "    print(f\"Classification Report:\\n{classification_report}\")\n",
    "\n",
    "    # Store the true labels and predictions\n",
    "    y_true_all = np.vstack([y_true_all, y_test])\n",
    "    y_pred_all = np.vstack([y_pred_all, y_pred])\n",
    "\n",
    "# Overall evaluation\n",
    "# Remove padding values from the aggregated true labels and predictions\n",
    "y_true_masked = y_true_all[y_true_all != mask_vals[1]]\n",
    "y_pred_masked = y_pred_all[y_true_all != mask_vals[1]]\n",
    "\n",
    "# Calculate overall metrics using the aggregated and masked true labels and predictions\n",
    "overall_accuracy = LSTMClassifier.masked_accuracy_score(y_true_masked, y_pred_masked)\n",
    "overall_f1 = LSTMClassifier.masked_f1_score(y_true_masked, y_pred_masked)\n",
    "overall_roc_auc = LSTMClassifier.masked_roc_auc_score(y_true_masked, y_pred_masked)\n",
    "overall_confusion_matrix = LSTMClassifier.masked_confusion_matrix(y_true_masked, y_pred_masked)\n",
    "overall_classification_report = LSTMClassifier.masked_classification_report(y_true_masked, y_pred_masked, target_names=['Normal Walking', 'Modulation'])\n",
    "\n",
    "# Print overall metrics\n",
    "print(\"*\" * 60)\n",
    "print(f\"\\nOverall Accuracy: {overall_accuracy:.4f}, Overall F1 Score: {overall_f1:.4f} Overall ROC AUC: {overall_roc_auc:.4f}\")\n",
    "print(f\"Overall Confusion Matrix:\\n{overall_confusion_matrix}\")\n",
    "print(f\"Overall Classification Report:\\n{overall_classification_report}\")\n",
    "\n",
    "# Calculate mean and standard deviation of metrics across folds\n",
    "mean_accuracy = np.mean(accuracy_list)\n",
    "std_accuracy = np.std(accuracy_list)\n",
    "mean_f1 = np.mean(f1_list)\n",
    "std_f1 = np.std(f1_list)\n",
    "mean_roc_auc = np.mean(roc_auc_list)\n",
    "std_roc_auc = np.std(roc_auc_list)\n",
    "\n",
    "# Print mean and standard deviation of metrics\n",
    "print(f\"\\nMean Accuracy: {mean_accuracy:.4f} ± {std_accuracy:.4f}\")\n",
    "print(f\"Mean F1 Score: {mean_f1:.4f} ± {std_f1:.4f}\")\n",
    "print(f\"Mean ROC AUC: {mean_roc_auc:.4f} ± {std_roc_auc:.4f}\")\n",
    "\n",
    "# Save the evaluation metrics\n",
    "evaluation_metrics_path = os.path.join(model_dir, 'evaluation_metrics.json')\n",
    "evaluation_metrics = {\n",
    "    \"overall_accuracy\": overall_accuracy,\n",
    "    \"overall_f1\": overall_f1,\n",
    "    \"overall_roc_auc\": overall_roc_auc,\n",
    "    \"overall_confusion_matrix\": overall_confusion_matrix.tolist(),  # Convert to list\n",
    "    \"overall_classification_report\": overall_classification_report,\n",
    "    \"mean_accuracy\": mean_accuracy,\n",
    "    \"std_accuracy\": std_accuracy,\n",
    "    \"mean_f1\": mean_f1,\n",
    "    \"std_f1\": std_f1,\n",
    "    \"mean_roc_auc\": mean_roc_auc,\n",
    "    \"std_roc_auc\": std_roc_auc,\n",
    "    \"per_fold_metrics\": [\n",
    "        {\n",
    "            \"patient\": metric[\"patient\"],\n",
    "            \"accuracy\": metric[\"accuracy\"],\n",
    "            \"f1\": metric[\"f1\"],\n",
    "            \"roc_auc\": metric[\"roc_auc\"],\n",
    "            \"confusion_matrix\": metric[\"confusion_matrix\"].tolist(),  # Convert to list\n",
    "            \"classification_report\": metric[\"classification_report\"]\n",
    "        }\n",
    "        for metric in per_fold_metrics\n",
    "    ]\n",
    "}\n",
    "with open(evaluation_metrics_path, 'w') as f:\n",
    "    json.dump(evaluation_metrics, f)\n",
    "print(f\"Evaluation metrics saved at {evaluation_metrics_path}\")\n"
   ]
  },
  {
   "cell_type": "code",
   "execution_count": null,
   "metadata": {
    "colab": {
     "base_uri": "https://localhost:8080/",
     "height": 564
    },
    "executionInfo": {
     "elapsed": 536,
     "status": "ok",
     "timestamp": 1742436424030,
     "user": {
      "displayName": "Mohammad O.",
      "userId": "11840019435036507814"
     },
     "user_tz": -60
    },
    "id": "sMoa-PBdKn1q",
    "outputId": "0e27d1fe-a745-492b-ee59-b1510ab3b7dc"
   },
   "outputs": [
    {
     "data": {
      "image/png": "[encoded data removed]",
      "text/plain": [
       "<Figure size 800x600 with 2 Axes>"
      ]
     },
     "metadata": {},
     "output_type": "display_data"
    }
   ],
   "source": [
    "# Plot the confusion matrix with normalized values\n",
    "plt.figure(figsize=(8, 6))\n",
    "norm_conf_matrix = overall_confusion_matrix.astype('float') / overall_confusion_matrix.sum(axis=1)[:, np.newaxis]\n",
    "annot = np.empty_like(overall_confusion_matrix).astype(str)\n",
    "\n",
    "for i in range(overall_confusion_matrix.shape[0]):\n",
    "    for j in range(overall_confusion_matrix.shape[1]):\n",
    "        c = overall_confusion_matrix[i, j]\n",
    "        n = norm_conf_matrix[i, j]\n",
    "        annot[i, j] = f'{c}\\n({n:.2%})'\n",
    "\n",
    "sns.heatmap(overall_confusion_matrix, annot=annot, fmt='', cmap='Blues', xticklabels=['Normal Walking', 'Modulation'], yticklabels=['Normal Walking', 'Modulation'])\n",
    "plt.xlabel('Predicted Label')\n",
    "plt.ylabel('True Label')\n",
    "plt.title('Confusion Matrix')\n",
    "plt.savefig(os.path.join(model_dir, 'confusion_matrix.png'))\n",
    "plt.show()\n"
   ]
  },
  {
   "cell_type": "code",
   "execution_count": 30,
   "metadata": {
    "id": "pQndMkYPVJiz"
   },
   "outputs": [],
   "source": [
    "# import tensorflow as tf\n",
    "# from tensorflow.keras.wrappers.scikit_learn import KerasClassifier\n",
    "\n",
    "# # Define a function to create the Keras model\n",
    "# def create_keras_model():\n",
    "#     return best_model\n",
    "\n",
    "# # Wrap the Keras model in a scikit-learn compatible wrapper\n",
    "# wrapped_model = KerasClassifier(build_fn=create_keras_model, epochs=10, batch_size=128, verbose=0)\n",
    "\n",
    "# # Learning Curves: Evaluate if the model is overfitting or underfitting\n",
    "# train_sizes, train_scores, test_scores = learning_curve(\n",
    "#     wrapped_model,\n",
    "#     X_padded,\n",
    "#     y_padded,\n",
    "#     groups=groups,\n",
    "#     cv=logo,\n",
    "#     scoring='accuracy',\n",
    "#     n_jobs=-1\n",
    "# )\n",
    "\n",
    "# plt.plot(train_sizes, np.mean(train_scores, axis=1), label='Training Score')\n",
    "# plt.plot(train_sizes, np.mean(test_scores, axis=1), label='Validation Score')\n",
    "# plt.xlabel('Training Set Size')\n",
    "# plt.ylabel('Accuracy')\n",
    "# plt.title('Learning Curve')\n",
    "# plt.legend()\n",
    "# plt.show()"
   ]
  },
  {
   "cell_type": "code",
   "execution_count": null,
   "metadata": {
    "colab": {
     "base_uri": "https://localhost:8080/",
     "height": 489
    },
    "executionInfo": {
     "elapsed": 644,
     "status": "ok",
     "timestamp": 1742436785280,
     "user": {
      "displayName": "Mohammad O.",
      "userId": "11840019435036507814"
     },
     "user_tz": -60
    },
    "id": "b1DGqSOYKsNn",
    "outputId": "07d09ce1-fabc-452f-bca1-2e51d1e8acb8"
   },
   "outputs": [
    {
     "data": {
      "image/png": "[encoded data removed]",
      "text/plain": [
       "<Figure size 640x480 with 1 Axes>"
      ]
     },
     "metadata": {},
     "output_type": "display_data"
    }
   ],
   "source": [
    "# Plot ROC curve and calculate AUC\n",
    "fpr, tpr, thresholds = roc_curve(y_true_masked, y_pred_masked)\n",
    "roc_auc = auc(fpr, tpr)\n",
    "\n",
    "plt.figure()\n",
    "plt.plot(fpr, tpr, color='darkorange', lw=2, label=f'ROC curve (area = {roc_auc:.2f})')\n",
    "plt.plot([0, 1], [0, 1], color='navy', lw=2, linestyle='--')\n",
    "plt.xlim([0.0, 1.0])\n",
    "plt.ylim([0.0, 1.05])\n",
    "plt.xlabel('False Positive Rate')\n",
    "plt.ylabel('True Positive Rate')\n",
    "plt.title('Receiver Operating Characteristic (ROC) Curve')\n",
    "plt.legend(loc='lower right')\n",
    "plt.savefig(os.path.join(model_dir, 'roc_curve.png'))\n",
    "plt.show()\n",
    "\n"
   ]
  },
  {
   "cell_type": "code",
   "execution_count": null,
   "metadata": {
    "colab": {
     "base_uri": "https://localhost:8080/"
    },
    "executionInfo": {
     "elapsed": 30,
     "status": "ok",
     "timestamp": 1742436885188,
     "user": {
      "displayName": "Mohammad O.",
      "userId": "11840019435036507814"
     },
     "user_tz": -60
    },
    "id": "w2qnHdfFKuaD",
    "outputId": "6ef34b98-f18d-4f8d-bbf1-1861deeb88c5"
   },
   "outputs": [
    {
     "name": "stdout",
     "output_type": "stream",
     "text": [
      "Model does not support feature importances or coefficients.\n"
     ]
    }
   ],
   "source": [
    "# Feature Importance\n",
    "if hasattr(best_model, 'feature_importances_'):\n",
    "    importances = best_model.feature_importances_\n",
    "    plt.figure(figsize=(8, 6))\n",
    "    plt.barh(range(len(importances)), importances)\n",
    "    plt.xlabel('Feature Importance')\n",
    "    plt.ylabel('Features')\n",
    "    plt.title('Feature Importances Plot')\n",
    "    plt.show()\n",
    "\n",
    "elif hasattr(best_model, 'coef_'):\n",
    "    importances = best_model.coef_[0]\n",
    "    plt.figure(figsize=(8, 6))\n",
    "    plt.barh(range(len(importances)), importances)\n",
    "    plt.xlabel('Coefficient Value')\n",
    "    plt.ylabel('Features')\n",
    "    plt.title('Model Coefficient Plot')\n",
    "    plt.show()\n",
    "\n",
    "else:\n",
    "    print(\"Model does not support feature importances or coefficients.\")\n"
   ]
  },
  {
   "cell_type": "code",
   "execution_count": null,
   "metadata": {
    "colab": {
     "base_uri": "https://localhost:8080/",
     "height": 489
    },
    "executionInfo": {
     "elapsed": 694,
     "status": "ok",
     "timestamp": 1742436890358,
     "user": {
      "displayName": "Mohammad O.",
      "userId": "11840019435036507814"
     },
     "user_tz": -60
    },
    "id": "mWThsv7mKwBH",
    "outputId": "0190e739-3d35-4114-9dda-90c40857a71a"
   },
   "outputs": [
    {
     "data": {
      "image/png": "[encoded data removed]",
      "text/plain": [
       "<Figure size 640x480 with 1 Axes>"
      ]
     },
     "metadata": {},
     "output_type": "display_data"
    }
   ],
   "source": [
    "# Load the training history\n",
    "history_dir = os.path.join(\"logs\", \"lstm\", \"history\", f\"run_{ts}\")\n",
    "history_files = [os.path.join(history_dir, f) for f in os.listdir(history_dir) if f.startswith('best_estimator_training_history_')]\n",
    "history_files.sort()  # Ensure the files are in order\n",
    "\n",
    "best_history = []\n",
    "for history_file in history_files:\n",
    "    with open(history_file, 'r') as f:\n",
    "        history = json.load(f)\n",
    "        best_history.append(history)\n",
    "\n",
    "# Plot the training history\n",
    "plt.figure()\n",
    "for fold, history in enumerate(best_history):\n",
    "    plt.plot(history['loss'], label=f'Fold {fold + 1} Train Loss')\n",
    "plt.xlabel('Epochs')\n",
    "plt.ylabel('Loss')\n",
    "plt.legend()\n",
    "plt.title('Best Model Training History')\n",
    "plt.savefig(os.path.join(model_dir, 'training_history.png'))\n",
    "plt.show()\n"
   ]
  },
  {
   "cell_type": "code",
   "execution_count": null,
   "metadata": {
    "colab": {
     "base_uri": "https://localhost:8080/"
    },
    "executionInfo": {
     "elapsed": 51,
     "status": "ok",
     "timestamp": 1742437088769,
     "user": {
      "displayName": "Mohammad O.",
      "userId": "11840019435036507814"
     },
     "user_tz": -60
    },
    "id": "wXGzrlxZKxd4",
    "outputId": "9fdad5c6-82b5-43a8-db69-26c7e5bee65c"
   },
   "outputs": [
    {
     "data": {
      "text/html": [
       "<div>\n",
       "<style scoped>\n",
       "    .dataframe tbody tr th:only-of-type {\n",
       "        vertical-align: middle;\n",
       "    }\n",
       "\n",
       "    .dataframe tbody tr th {\n",
       "        vertical-align: top;\n",
       "    }\n",
       "\n",
       "    .dataframe thead th {\n",
       "        text-align: right;\n",
       "    }\n",
       "</style>\n",
       "<table border=\"1\" class=\"dataframe\">\n",
       "  <thead>\n",
       "    <tr style=\"text-align: right;\">\n",
       "      <th></th>\n",
       "      <th>fold_1_accuracy</th>\n",
       "      <th>fold_1_f1</th>\n",
       "      <th>fold_1_roc_auc</th>\n",
       "      <th>fold_2_accuracy</th>\n",
       "      <th>fold_2_f1</th>\n",
       "      <th>fold_2_roc_auc</th>\n",
       "      <th>fold_3_accuracy</th>\n",
       "      <th>fold_3_f1</th>\n",
       "      <th>fold_3_roc_auc</th>\n",
       "    </tr>\n",
       "  </thead>\n",
       "  <tbody>\n",
       "    <tr>\n",
       "      <th>0</th>\n",
       "      <td>0.442999</td>\n",
       "      <td>0.451707</td>\n",
       "      <td>0.424363</td>\n",
       "      <td>0.517502</td>\n",
       "      <td>0.519995</td>\n",
       "      <td>0.497366</td>\n",
       "      <td>0.506079</td>\n",
       "      <td>0.507096</td>\n",
       "      <td>0.517783</td>\n",
       "    </tr>\n",
       "    <tr>\n",
       "      <th>1</th>\n",
       "      <td>0.578424</td>\n",
       "      <td>0.584480</td>\n",
       "      <td>0.600870</td>\n",
       "      <td>0.509934</td>\n",
       "      <td>0.514269</td>\n",
       "      <td>0.525461</td>\n",
       "      <td>0.574468</td>\n",
       "      <td>0.570896</td>\n",
       "      <td>0.556022</td>\n",
       "    </tr>\n",
       "    <tr>\n",
       "      <th>2</th>\n",
       "      <td>0.596787</td>\n",
       "      <td>0.600967</td>\n",
       "      <td>0.628493</td>\n",
       "      <td>0.686850</td>\n",
       "      <td>0.685716</td>\n",
       "      <td>0.666595</td>\n",
       "      <td>0.537994</td>\n",
       "      <td>0.536404</td>\n",
       "      <td>0.522127</td>\n",
       "    </tr>\n",
       "    <tr>\n",
       "      <th>3</th>\n",
       "      <td>0.602142</td>\n",
       "      <td>0.588163</td>\n",
       "      <td>0.547059</td>\n",
       "      <td>0.522233</td>\n",
       "      <td>0.521905</td>\n",
       "      <td>0.495814</td>\n",
       "      <td>0.548632</td>\n",
       "      <td>0.551155</td>\n",
       "      <td>0.544083</td>\n",
       "    </tr>\n",
       "  </tbody>\n",
       "</table>\n",
       "</div>"
      ],
      "text/plain": [
       "   fold_1_accuracy  fold_1_f1  fold_1_roc_auc  fold_2_accuracy  fold_2_f1  \\\n",
       "0         0.442999   0.451707        0.424363         0.517502   0.519995   \n",
       "1         0.578424   0.584480        0.600870         0.509934   0.514269   \n",
       "2         0.596787   0.600967        0.628493         0.686850   0.685716   \n",
       "3         0.602142   0.588163        0.547059         0.522233   0.521905   \n",
       "\n",
       "   fold_2_roc_auc  fold_3_accuracy  fold_3_f1  fold_3_roc_auc  \n",
       "0        0.497366         0.506079   0.507096        0.517783  \n",
       "1        0.525461         0.574468   0.570896        0.556022  \n",
       "2        0.666595         0.537994   0.536404        0.522127  \n",
       "3        0.495814         0.548632   0.551155        0.544083  "
      ]
     },
     "execution_count": 42,
     "metadata": {},
     "output_type": "execute_result"
    }
   ],
   "source": [
    "# Convert GridSearchCV results into a DataFrame\n",
    "cv_results_path = os.path.join(model_dir, 'cv_results.csv')\n",
    "results_df = pd.read_csv(cv_results_path)\n",
    "\n",
    "# Select relevant columns\n",
    "# results_df = results_df[\n",
    "#     [\n",
    "#         \"mean_test_accuracy\",  # Mean accuracy across folds\n",
    "#         \"std_test_accuracy\",   # Standard deviation of accuracy across folds\n",
    "#         \"mean_test_f1\",        # Mean F1 score across folds\n",
    "#         \"std_test_f1\",         # Standard deviation of F1 score across folds\n",
    "#         \"mean_test_roc_auc\",   # Mean ROC AUC across folds\n",
    "#         \"std_test_roc_auc\",    # Standard deviation of ROC AUC across folds\n",
    "#         \"params\",              # Hyperparameter combination\n",
    "#         \"rank_test_f1\",        # Rank of the F1 score\n",
    "#     ]\n",
    "# ]\n",
    "\n",
    "# Sort by best mean F1 score\n",
    "# results_df = results_df.sort_values(by=\"mean_test_f1\", ascending=False)\n",
    "\n",
    "# Extract the scores for each fold\n",
    "fold_scores = {}\n",
    "for i in range(n_splits):\n",
    "    fold_scores[f\"fold_{i+1}_accuracy\"] = results_df[f\"split{i}_test_accuracy\"]\n",
    "    fold_scores[f\"fold_{i+1}_f1\"] = results_df[f\"split{i}_test_f1\"]\n",
    "    if f\"split{i}_test_roc_auc\" in results_df:\n",
    "        fold_scores[f\"fold_{i+1}_roc_auc\"] = results_df[f\"split{i}_test_roc_auc\"]\n",
    "\n",
    "# Convert to DataFrame for better visualization\n",
    "fold_scores_df = pd.DataFrame(fold_scores)\n",
    "\n",
    "# Display fold scores\n",
    "fold_scores_df\n"
   ]
  }
 ],
 "metadata": {
  "accelerator": "GPU",
  "colab": {
   "authorship_tag": "ABX9TyPcPfM+No2tSIxt+3lPoa+n",
   "gpuType": "T4",
   "provenance": []
  },
  "kernelspec": {
   "display_name": "gait_modulation",
   "language": "python",
   "name": "python3"
  },
  "language_info": {
   "codemirror_mode": {
    "name": "ipython",
    "version": 3
   },
   "file_extension": ".py",
   "mimetype": "text/x-python",
   "name": "python",
   "nbconvert_exporter": "python",
   "pygments_lexer": "ipython3",
   "version": "3.10.16"
  }
 },
 "nbformat": 4,
 "nbformat_minor": 0
}
